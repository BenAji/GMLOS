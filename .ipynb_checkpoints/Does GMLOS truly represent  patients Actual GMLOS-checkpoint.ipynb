{
 "cells": [
  {
   "cell_type": "markdown",
   "metadata": {},
   "source": [
    "## Question"
   ]
  },
  {
   "cell_type": "markdown",
   "metadata": {},
   "source": [
    "This work intend to answering the question \n",
    "* How well do DRG-predicted LOS values match actual values?\n",
    "* Do any factors explain significant variability in the closeness of these values?"
   ]
  },
  {
   "cell_type": "markdown",
   "metadata": {},
   "source": [
    "#### Import module"
   ]
  },
  {
   "cell_type": "code",
   "execution_count": null,
   "metadata": {},
   "outputs": [],
   "source": [
    "import pprint\n",
    "import sqlite3\n",
    "import pathlib\n",
    "\n",
    "import pandas as pd\n",
    "import numpy as np\n",
    "import seaborn as sns\n",
    "sns.set_style('whitegrid')\n",
    "import matplotlib as plt\n",
    "from scipy import stats\n",
    "\n",
    "import matplotlib.pyplot as plt \n",
    "plt.style.use('default')\n",
    "plt.style.use ('seaborn-darkgrid')\n",
    "\n",
    "import plotly.express as px\n",
    "from statsmodels.graphics.gofplots import qqplot\n",
    "from statsmodels.stats.weightstats import ztest\n",
    "\n",
    "\n",
    "pd.set_option('display.max_rows', 500)\n",
    "pd.set_option('display.max_columns', 500)"
   ]
  },
  {
   "cell_type": "markdown",
   "metadata": {},
   "source": [
    "#### Read from database"
   ]
  },
  {
   "cell_type": "code",
   "execution_count": null,
   "metadata": {},
   "outputs": [],
   "source": [
    "def query_sqlite_with_pandas(query):\n",
    "    \n",
    "    #with sqlite3.Connection('LOS_data_cd41.sqlite') as conn:\n",
    "    with sqlite3.Connection('LOS_data_2023-02-01.sqlite') as conn:\n",
    "        query_results = pd.read_sql(query, conn)\n",
    "    conn.close()\n",
    "    \n",
    "    return query_results"
   ]
  },
  {
   "cell_type": "markdown",
   "metadata": {},
   "source": [
    "#### Query the variables of interest"
   ]
  },
  {
   "cell_type": "code",
   "execution_count": null,
   "metadata": {},
   "outputs": [],
   "source": [
    "query = \"\"\"\n",
    "SELECT e.patient_encounter_tk, e.admission_datetime, e.discharge_datetime,              --Encounter information\n",
    "            pe.drg_code, d.drg_description, d.gmlos, d.clinical_type, d.mdc,             --DRG information\n",
    "            p.patient_tk, p.DOB, g.gender_abbreviation, p.ethnicity_tk, p.race_tk,      --Patient descriptives\n",
    "            e.last_inpatient_admission_datetime, e.patient_class_tk,                    --Encounter descriptives\n",
    "            f.facility_tk, f.hospital_system_tk, f.analytics_display_name               --Facility information\n",
    "\n",
    "FROM cd_patient_encounters e\n",
    "        LEFT JOIN cd_patient_encounter_drgs pe ON e.patient_encounter_tk=pe.patient_encounter_tk\n",
    "        LEFT JOIN ref_drg_code_history d ON pe.drg_code=d.drg_code\n",
    "        LEFT JOIN cd_patients p ON e.patient_tk=p.patient_tk\n",
    "        LEFT JOIN ref_facilities f ON e.facility_tk=f.facility_tk\n",
    "        LEFT JOIN cd_genders g2 ON p.gender_tk=g2.gender_tk and f.facility_tk=g2.facility_tk\n",
    "        LEFT JOIN ref_genders  g ON g2.master_gender_tk=g.master_gender_tk;\n",
    "\"\"\"\n",
    "\n",
    "los_calc_df = query_sqlite_with_pandas(query)"
   ]
  },
  {
   "cell_type": "code",
   "execution_count": null,
   "metadata": {},
   "outputs": [],
   "source": [
    "#### Make datetime datatype\n",
    "los_calc_df['admission_datetime'] = pd.to_datetime(los_calc_df['admission_datetime'])\n",
    "los_calc_df['discharge_datetime'] = pd.to_datetime(los_calc_df['discharge_datetime'],errors='coerce')\n",
    "los_calc_df['last_inpatient_admission_datetime'] = pd.to_datetime(los_calc_df['last_inpatient_admission_datetime'],errors='coerce')\n",
    "los_calc_df['dob'] = pd.to_datetime(los_calc_df['dob'])"
   ]
  },
  {
   "cell_type": "markdown",
   "metadata": {},
   "source": [
    "# Initial Data Exploration and Understanding and Data Transformstion​"
   ]
  },
  {
   "cell_type": "markdown",
   "metadata": {},
   "source": [
    "###### Create New Fields"
   ]
  },
  {
   "cell_type": "markdown",
   "metadata": {},
   "source": [
    "#### Calculate encounter LOS\n",
    "Lenght of stay LOS is the actual duration of time used by a recorder patient encounter. This is calculated by subtracting the discharge time from admission time"
   ]
  },
  {
   "cell_type": "code",
   "execution_count": null,
   "metadata": {},
   "outputs": [],
   "source": [
    "los_calc_df['encounter_los'] = los_calc_df['discharge_datetime']-los_calc_df['admission_datetime']"
   ]
  },
  {
   "cell_type": "code",
   "execution_count": null,
   "metadata": {},
   "outputs": [],
   "source": [
    "los_calc_df['encounter_los'] = los_calc_df['encounter_los'] / pd.Timedelta(days=1)"
   ]
  },
  {
   "cell_type": "code",
   "execution_count": null,
   "metadata": {},
   "outputs": [],
   "source": [
    "#check for unique values in gender column\n",
    "los_calc_df.gender_abbreviation.unique()"
   ]
  },
  {
   "cell_type": "markdown",
   "metadata": {},
   "source": [
    "#### Difference between DRG LOS and ENC LOS, Meet_it criteria and return_visit\n",
    "LOS Difference is the calculated value as a difference between encounter_los from the expected or given Geometric Mean Lenght of stay GMLOS. There is the MDC that group DRGs into different categories. The DRGs are mapped to MDC using a file called MDC mapper. Return flag is to code any patient that has been to the hospital system before i.e a returning patient.There are instances where admission date is less than date of birth this is specific for foetus who are not yet born as at admission.\n",
    "    There is a meet_it binary criteria that shows for each patient encounter if they exceed the GMLOS or not. \n"
   ]
  },
  {
   "cell_type": "code",
   "execution_count": null,
   "metadata": {},
   "outputs": [],
   "source": [
    "#calculate difference\n",
    "los_calc_df['los_difference'] = los_calc_df['encounter_los']-los_calc_df['gmlos']"
   ]
  },
  {
   "cell_type": "code",
   "execution_count": null,
   "metadata": {},
   "outputs": [],
   "source": [
    "### MDC Description\n",
    "mdc_mapper = pd.read_csv(\"mdc_mapper.csv\", dtype='object').set_index('mdc')\n",
    "los_calc_df = los_calc_df.join(mdc_mapper, on='mdc') \n",
    "los_calc_df['mdc_description'] = los_calc_df.mdc_description.fillna('')"
   ]
  },
  {
   "cell_type": "code",
   "execution_count": null,
   "metadata": {},
   "outputs": [],
   "source": [
    "# Return Visit Flag\n",
    "los_calc_df['return_visit'] = 1*(~los_calc_df['last_inpatient_admission_datetime'].isna())"
   ]
  },
  {
   "cell_type": "code",
   "execution_count": null,
   "metadata": {},
   "outputs": [],
   "source": [
    "# patient : foetus i.e having DOB to be less than admission date\n",
    "(los_calc_df['admission_datetime']<los_calc_df['dob']).any()"
   ]
  },
  {
   "cell_type": "code",
   "execution_count": null,
   "metadata": {},
   "outputs": [],
   "source": [
    "los_calc_df[(los_calc_df['admission_datetime']<los_calc_df['dob'])]"
   ]
  },
  {
   "cell_type": "code",
   "execution_count": null,
   "metadata": {},
   "outputs": [],
   "source": [
    "los_calc_df.dtypes"
   ]
  },
  {
   "cell_type": "code",
   "execution_count": null,
   "metadata": {},
   "outputs": [],
   "source": [
    "los_calc_df.nunique()"
   ]
  },
  {
   "cell_type": "code",
   "execution_count": null,
   "metadata": {},
   "outputs": [],
   "source": [
    "# Age at Admission\n",
    "los_calc_df['age_at_admit'] = los_calc_df['admission_datetime']-los_calc_df['dob']\n",
    "los_calc_df['age_at_admit'] = los_calc_df['age_at_admit'].astype('timedelta64[Y]').astype(int)"
   ]
  },
  {
   "cell_type": "code",
   "execution_count": null,
   "metadata": {},
   "outputs": [],
   "source": [
    "# meet_it (Is gmlos met?)\n",
    "los_calc_df['meet_it'] = 1*(los_calc_df['encounter_los'] <= los_calc_df['gmlos'])"
   ]
  },
  {
   "cell_type": "markdown",
   "metadata": {},
   "source": [
    "##### Data Cleaning "
   ]
  },
  {
   "cell_type": "code",
   "execution_count": null,
   "metadata": {},
   "outputs": [],
   "source": [
    "los_calc_df[los_calc_df['encounter_los'] == 0].shape  \n",
    "#446 rows with exact same admit and discharge time"
   ]
  },
  {
   "cell_type": "code",
   "execution_count": null,
   "metadata": {},
   "outputs": [],
   "source": [
    "encounter_records = los_calc_df[los_calc_df['encounter_los']> 0]\n",
    "#1279 rows have discharge at or before admit - these are dropped\n",
    "#also drops 497 n/a discharges"
   ]
  },
  {
   "cell_type": "code",
   "execution_count": null,
   "metadata": {},
   "outputs": [],
   "source": [
    "encounter_records = encounter_records[encounter_records['encounter_los'] <= 180]\n",
    "#drop 22 extreme outliers"
   ]
  },
  {
   "cell_type": "code",
   "execution_count": null,
   "metadata": {},
   "outputs": [],
   "source": [
    "encounter_records[encounter_records['gmlos'].isna()]['drg_code'].unique()\n",
    "#8880 records in 18 drg codes do not map to a gmlos"
   ]
  },
  {
   "cell_type": "code",
   "execution_count": null,
   "metadata": {},
   "outputs": [],
   "source": [
    "encounter_records[encounter_records['drg_code']==''].shape\n",
    "#8615 of those records have a blank drg"
   ]
  },
  {
   "cell_type": "code",
   "execution_count": null,
   "metadata": {},
   "outputs": [],
   "source": [
    "encounter_records_final = encounter_records[~encounter_records['encounter_los'].isna()]"
   ]
  },
  {
   "cell_type": "markdown",
   "metadata": {},
   "source": [
    "##### Create DRG Grouped Data"
   ]
  },
  {
   "cell_type": "code",
   "execution_count": null,
   "metadata": {},
   "outputs": [],
   "source": [
    "agg_funcs = {'encounter_los':stats.gmean,\n",
    "            'age_at_admit':'mean',\n",
    "            'return_visit':'mean',\n",
    "            'meet_it':'mean',\n",
    "            'patient_encounter_tk':'count'}\n",
    "group_by_columns = ['drg_code','drg_description','mdc','mdc_description','clinical_type','gmlos',]#,"
   ]
  },
  {
   "cell_type": "code",
   "execution_count": null,
   "metadata": {},
   "outputs": [],
   "source": [
    "drg_records_prelim = encounter_records_final.groupby(group_by_columns).agg(agg_funcs).reset_index()"
   ]
  },
  {
   "cell_type": "code",
   "execution_count": null,
   "metadata": {},
   "outputs": [],
   "source": [
    "rename_cols = {\"encounter_los\":\"actual_gmlos\",\n",
    "              \"age_at_admit\":\"average_age\",\n",
    "              \"return_visit\":\"pct_return_visits\",\n",
    "              \"meet_it\":\"pct_meet_it\",\n",
    "              \"patient_encounter_tk\":\"num_encounters\"}"
   ]
  },
  {
   "cell_type": "code",
   "execution_count": null,
   "metadata": {},
   "outputs": [],
   "source": [
    "drg_records = drg_records_prelim.dropna().rename(columns=rename_cols)\n",
    "drg_records['gmlos_difference'] = drg_records.eval(\"actual_gmlos-gmlos\")\n",
    "drg_records['drg_meet_it'] = 1*(drg_records['actual_gmlos'] <= drg_records['gmlos'])\n",
    "drg_records.head()\n",
    "drg_records_final = drg_records.copy()"
   ]
  },
  {
   "cell_type": "code",
   "execution_count": null,
   "metadata": {},
   "outputs": [],
   "source": []
  },
  {
   "cell_type": "code",
   "execution_count": null,
   "metadata": {},
   "outputs": [],
   "source": [
    "#select columns od interest\n",
    "column = ['drg_code', 'mdc', 'clinical_type','average_age', 'pct_return_visits', 'num_encounters', \n",
    "          'gmlos','actual_gmlos','gmlos_difference','drg_meet_it']\n",
    "df2=drg_records_final[column]"
   ]
  },
  {
   "cell_type": "code",
   "execution_count": null,
   "metadata": {},
   "outputs": [],
   "source": [
    "df2"
   ]
  },
  {
   "cell_type": "code",
   "execution_count": null,
   "metadata": {},
   "outputs": [],
   "source": []
  },
  {
   "cell_type": "code",
   "execution_count": null,
   "metadata": {},
   "outputs": [],
   "source": []
  },
  {
   "cell_type": "code",
   "execution_count": null,
   "metadata": {},
   "outputs": [],
   "source": [
    "#select columns of intereest\n",
    "columns = ['drg_code', 'mdc','gender_abbreviation', 'clinical_type','age_at_admit', 'return_visit', 'gmlos','encounter_los','los_difference', 'meet_it']"
   ]
  },
  {
   "cell_type": "code",
   "execution_count": null,
   "metadata": {},
   "outputs": [],
   "source": [
    "encounter_records[columns].isna().sum()"
   ]
  },
  {
   "cell_type": "code",
   "execution_count": null,
   "metadata": {},
   "outputs": [],
   "source": [
    "# drop all rows that have no value, not a number\n",
    "df1=encounter_records[columns].dropna().reset_index(drop='Index')\n",
    "df1"
   ]
  },
  {
   "cell_type": "code",
   "execution_count": null,
   "metadata": {},
   "outputs": [],
   "source": [
    "df1.rename(columns={'gender_abbreviation':'gender','age_at_admit':'age','mdc':'mdc','encounter_los':'LOS','los_difference':'LOS_Diff'},inplace=True)\n",
    "df1"
   ]
  },
  {
   "cell_type": "code",
   "execution_count": null,
   "metadata": {},
   "outputs": [],
   "source": []
  },
  {
   "cell_type": "raw",
   "metadata": {},
   "source": []
  },
  {
   "cell_type": "markdown",
   "metadata": {},
   "source": [
    "# Part B - \n",
    "## Business Intelligence "
   ]
  },
  {
   "cell_type": "markdown",
   "metadata": {},
   "source": [
    "### How well does GMLOS predict length of stay for DRG encounters?​ \n",
    "We like to understand how the given GMLON accurately explains the actual variation in hospital patients encounter lenght of stay (Actual_GMLOS). We plot a linear fit of the two using a scatter plot and a line of fit"
   ]
  },
  {
   "cell_type": "code",
   "execution_count": null,
   "metadata": {},
   "outputs": [],
   "source": []
  },
  {
   "cell_type": "code",
   "execution_count": null,
   "metadata": {},
   "outputs": [],
   "source": [
    "\n",
    "def scatter(df,x,y,title):\n",
    "    '''scatter plot to plot a linear line of best fit between two continuos values x and y'''\n",
    "    fig = px.scatter(df, x=x, y=y, trendline='ols')\n",
    "    # Set plot title and center-align it\n",
    "    fig.update_layout(\n",
    "        title=title,\n",
    "        title_x=0.5  # Value of 0.5 centers the title\n",
    "    )\n",
    "    fig.show()\n",
    "scatter(df=df2,x='gmlos',y='actual_gmlos',title='Scatter Plot of actual_GMLOS vs GMLOS')"
   ]
  },
  {
   "cell_type": "markdown",
   "metadata": {},
   "source": [
    "##### Difference between Encounter LOS(Patient's Actual GMLOS) and given Geometric Mean LOS"
   ]
  },
  {
   "cell_type": "markdown",
   "metadata": {},
   "source": [
    "###### At DRG level\n",
    "A histogram showing the distribution of Grouped DRGs and showing how many DRGs meet the government GMLOS. We expect data point to be at the mean of zero , slightly left skewed and a decent kurtois. Against our thought there are lots of DRGs that do not meet the GMLOS as the distribution is slightly more skewed to the right."
   ]
  },
  {
   "cell_type": "code",
   "execution_count": null,
   "metadata": {},
   "outputs": [],
   "source": [
    "#aggregated dataframe used (grouped DRGs)\n",
    "df2"
   ]
  },
  {
   "cell_type": "code",
   "execution_count": null,
   "metadata": {},
   "outputs": [],
   "source": [
    "fig = px.histogram(df2, x='gmlos_difference')\n",
    "\n",
    "# Set plot title and center-align it\n",
    "fig.update_layout(\n",
    "    title='Histogram of gmlos_difference',\n",
    "    title_x=0.5  # Value of 0.5 centers the title\n",
    ")\n",
    "\n",
    "# Customize the bar colors\n",
    "fig.update_traces(marker_color='steelblue')\n",
    "\n",
    "# Set x-axis label\n",
    "fig.update_xaxes(title='gmlos_difference')\n",
    "\n",
    "# Set y-axis label\n",
    "fig.update_yaxes(title='Count of DRGs')\n",
    "\n",
    "# Customize the layout\n",
    "fig.update_layout(\n",
    "    plot_bgcolor='white',   # Set plot background color\n",
    "    barmode='overlay',      # Display bars in overlay mode\n",
    "    bargap=0.1,             # Set gap between bars\n",
    "    bargroupgap=0.05,       # Set gap between bar groups\n",
    ")\n",
    "\n",
    "fig.show()"
   ]
  },
  {
   "cell_type": "code",
   "execution_count": null,
   "metadata": {},
   "outputs": [],
   "source": []
  },
  {
   "cell_type": "markdown",
   "metadata": {},
   "source": [
    "#### Plot distributtion side by side to a bar chart showing the proportion"
   ]
  },
  {
   "cell_type": "code",
   "execution_count": null,
   "metadata": {},
   "outputs": [],
   "source": [
    " \n",
    "# Create a subplot with 1 row and 2 columns\n",
    "fig = sp.make_subplots(rows=1, cols=2, subplot_titles=('Histogram - gmlos_difference', 'DRGs that Meet GMLOS'),\n",
    "                       column_widths=[0.85, 0.15])\n",
    "\n",
    "# Histogram - gmlos_difference\n",
    "fig.add_trace(go.Histogram(x=df2['gmlos_difference']), row=1, col=1)\n",
    "\n",
    "# Bar Chart - drg_meet_it\n",
    "meet_counts = df2['drg_meet_it'].value_counts(normalize=True)\n",
    "fig.add_trace(go.Bar(x=meet_counts.index, y=meet_counts.values, #marker=dict(color=['skyblue', 'skyblue']) \n",
    "#                 name='drg_meet_it',     \n",
    "                   ), row=1, col=2)\n",
    "\n",
    "# Update subplot layout\n",
    "fig.update_layout(showlegend=False)\n",
    "\n",
    "fig.update_layout(legend=dict(x=0, y=0))\n",
    "\n",
    "fig.show()\n"
   ]
  },
  {
   "cell_type": "markdown",
   "metadata": {},
   "source": [
    "#### Plot bar chat of MDCs side by side to a bar chart showing the proportion of clinical type of patient"
   ]
  },
  {
   "cell_type": "code",
   "execution_count": null,
   "metadata": {},
   "outputs": [],
   "source": [
    "# Create a subplot with 1 row and 2 columns\n",
    "fig = sp.make_subplots(rows=1, cols=2, subplot_titles=('Counts of MDC', 'Counts of Clinical Type'),\n",
    "                       column_widths=[0.85, 0.15])\n",
    "\n",
    "\n",
    "# Bar Chart - count of MDCs\n",
    "meet_counts = df2['mdc'].value_counts(normalize=True)\n",
    "fig.add_trace(go.Bar(x=meet_counts.index, y=meet_counts.values, #marker=dict(color=['skyblue', 'skyblue']) \n",
    "#                 name='drg_meet_it',     \n",
    "                   ), row=1, col=1)\n",
    "\n",
    "# Bar Chart - count of Clinical type\n",
    "meet_count = df2['clinical_type'].value_counts(normalize=True)\n",
    "fig.add_trace(go.Bar(x=meet_count.index, y=meet_count.values, #marker=dict(color=['skyblue', 'skyblue']) \n",
    "#                 name='drg_meet_it',     \n",
    "                   ), row=1, col=2)\n",
    "\n",
    "# Update subplot layout\n",
    "fig.update_layout(showlegend=False)\n",
    "\n",
    "fig.update_layout(legend=dict(x=0, y=0))\n",
    "\n",
    "fig.show()\n"
   ]
  },
  {
   "cell_type": "markdown",
   "metadata": {},
   "source": [
    "#### Plot Box plot of Age  side by side to a bar chart showing the proportion of Return visit"
   ]
  },
  {
   "cell_type": "code",
   "execution_count": null,
   "metadata": {},
   "outputs": [],
   "source": [
    "\n",
    "# Create a subplot with 2 rows and 2 columns\n",
    "fig = sp.make_subplots(rows=1, cols=2, subplot_titles=('Average Age', 'Percentage of Return Visits',\n",
    "                                                      ))\n",
    "\n",
    "# Average Age\n",
    "fig.add_trace(go.Box(y=df2['average_age'], boxmean=True, name='Average Age'), row=1, col=1)\n",
    "\n",
    "# Percentage of Return Visits\n",
    "fig.add_trace(go.Histogram(x=df2['pct_return_visits']>0, name=' Return Visits'), row=1, col=2)\n",
    "\n",
    "\n",
    "\n",
    "# Update subplot layout\n",
    "fig.update_layout(showlegend=False)\n",
    "\n",
    "fig.show()\n"
   ]
  },
  {
   "cell_type": "code",
   "execution_count": null,
   "metadata": {},
   "outputs": [],
   "source": []
  },
  {
   "cell_type": "markdown",
   "metadata": {},
   "source": [
    "#### Boxplot of average age and GMLOS grouped by meet_it (0and 1) "
   ]
  },
  {
   "cell_type": "code",
   "execution_count": null,
   "metadata": {},
   "outputs": [],
   "source": [
    "def plot(df1,title1,title2,y_text1,y_text2,target,col1,col2):\n",
    "\n",
    "    # Create a subplot with 1 row and 2 columns\n",
    "    fig = sp.make_subplots(rows=1, cols=2, subplot_titles=(title1, title2))\n",
    "\n",
    "    # Box plot for Average Age, grouped by drg_meet_it\n",
    "    for value in df1[target].unique():\n",
    "        fig.add_trace(go.Box(y=df1[df1[target] == value][col1],\n",
    "                             name='{} = {}'.format(target,value)), row=1, col=1)\n",
    "\n",
    "    # Box plot for Actual GMLOS, grouped by drg_meet_it\n",
    "    for value in df1[target].unique():\n",
    "        fig.add_trace(go.Box(y=df1[df1[target] == value][col2],\n",
    "                             name='{} = {}'.format(target,value)), row=1, col=2)\n",
    "\n",
    "    # Update subplot layout\n",
    "    fig.update_layout(showlegend=False)\n",
    "\n",
    "    # Set titles for the subplots\n",
    "    fig.update_annotations(\n",
    "        dict(text=title1, x=0.17, y=1.06, showarrow=False, font=dict(size=12)),\n",
    "        dict(text=title2, x=0.78, y=1.06, showarrow=False, font=dict(size=12))\n",
    "    )\n",
    "\n",
    "    # Update layout for each subplot\n",
    "    fig.update_xaxes(title_text=target, row=1, col=1)\n",
    "    fig.update_xaxes(title_text=target, row=1, col=2)\n",
    "    fig.update_yaxes(title_text=y_text1, row=1, col=1)\n",
    "    fig.update_yaxes(title_text=y_text2, row=1, col=2)\n",
    "\n",
    "    # Show the figure\n",
    "    fig.show()"
   ]
  },
  {
   "cell_type": "markdown",
   "metadata": {},
   "source": [
    "#### Boxplot of AGE and GMLOS grouped by drg_meet_it at DRG level"
   ]
  },
  {
   "cell_type": "code",
   "execution_count": null,
   "metadata": {},
   "outputs": [],
   "source": [
    "plot(df2,'DRG_Average_Age','DRG_GMLOS','Average_age_at_admission','Geometric_Mean_diagnosis','drg_meet_it','average_age','gmlos')"
   ]
  },
  {
   "cell_type": "markdown",
   "metadata": {},
   "source": [
    "#### Boxlot of GMLOS difference grouped by MDC"
   ]
  },
  {
   "cell_type": "code",
   "execution_count": null,
   "metadata": {},
   "outputs": [],
   "source": [
    "def cat_box(df,x,y,title,xaxes_title,yaxes_title):\n",
    "    # Create the box plot\n",
    "    fig = px.box(df, x=x , y=y , title=title ,)\n",
    "\n",
    "    # Update layout\n",
    "    fig.update_xaxes(title=xaxes_title)\n",
    "    fig.update_yaxes(title=yaxes_title)\n",
    "\n",
    "    # Show the figure\n",
    "    fig.show()\n",
    "cat_box(df2,'mdc','gmlos_difference','Box Plot - gmlos_difference Grouped by MDC','MDC','gmlos_difference')"
   ]
  },
  {
   "cell_type": "code",
   "execution_count": null,
   "metadata": {},
   "outputs": [],
   "source": []
  },
  {
   "cell_type": "markdown",
   "metadata": {},
   "source": [
    "##### Difference between Encounter LOS(Patient's Actual GMLOS) and given Geometric Mean LOS \n",
    "##### - Lowest level - Encounter\n",
    "We checked for the distribution for each encounter in the as recorded  system in the most granular form"
   ]
  },
  {
   "cell_type": "code",
   "execution_count": null,
   "metadata": {
    "scrolled": true
   },
   "outputs": [],
   "source": [
    "df1"
   ]
  },
  {
   "cell_type": "markdown",
   "metadata": {},
   "source": [
    " The distibution is very right skewed as a lot of patients are not meeting the specific GMLOS for their ailment as suggested by the government"
   ]
  },
  {
   "cell_type": "code",
   "execution_count": null,
   "metadata": {},
   "outputs": [],
   "source": [
    "def hist(df,x,xaxes_title,yaxes_title,layout_title):\n",
    "    fig = px.histogram(df, x)\n",
    "\n",
    "\n",
    "    # Customize the bar colors\n",
    "    fig.update_traces(marker_color='steelblue')\n",
    "\n",
    "    # Set x-axis label\n",
    "    fig.update_xaxes(title=xaxes_title)\n",
    "\n",
    "    # Set y-axis label\n",
    "    fig.update_yaxes(title=yaxes_title)\n",
    "\n",
    "    # Set plot title and center-align it\n",
    "    fig.update_layout(\n",
    "        title=layout_title,\n",
    "        title_x=0.5  # Value of 0.5 centers the title\n",
    "    )\n",
    "\n",
    "    # Customize the layout\n",
    "    fig.update_layout(\n",
    "        plot_bgcolor='white',   # Set plot background color\n",
    "    )\n",
    "\n",
    "    fig.show()\n",
    " "
   ]
  },
  {
   "cell_type": "code",
   "execution_count": null,
   "metadata": {
    "scrolled": true
   },
   "outputs": [],
   "source": [
    "   \n",
    "hist(df1,'LOS_Diff','gmlos_difference','Count of encounters','Histogram of gmlos_difference-Encounter Level')"
   ]
  },
  {
   "cell_type": "markdown",
   "metadata": {},
   "source": [
    "To understand what is happening we reduced the skewness by eliminating those who exceed the limit over 25 days differnt "
   ]
  },
  {
   "cell_type": "code",
   "execution_count": null,
   "metadata": {},
   "outputs": [],
   "source": [
    "#slice the frame limiting to those patient who do not exceed their GMLOS more than 25 days\n",
    "data = df1[df1.LOS_Diff<25]\n",
    "data"
   ]
  },
  {
   "cell_type": "code",
   "execution_count": null,
   "metadata": {},
   "outputs": [],
   "source": [
    "    "
   ]
  },
  {
   "cell_type": "code",
   "execution_count": null,
   "metadata": {
    "scrolled": true
   },
   "outputs": [],
   "source": [
    "hist(data,'LOS_Diff','gmlos_difference','Count of encounters','Histogram of gmlos_difference-Encounter Level')"
   ]
  },
  {
   "cell_type": "code",
   "execution_count": null,
   "metadata": {},
   "outputs": [],
   "source": []
  },
  {
   "cell_type": "markdown",
   "metadata": {},
   "source": [
    "#### Scatter plot of age vs los_difference\n",
    "This does not give a particular correlation the data point is clustered around zero level as expected"
   ]
  },
  {
   "cell_type": "code",
   "execution_count": null,
   "metadata": {
    "scrolled": true
   },
   "outputs": [],
   "source": [
    "\n",
    "scatter(df1,'age','LOS_Diff','Scatter Plot of age vs loss_diff')"
   ]
  },
  {
   "cell_type": "markdown",
   "metadata": {},
   "source": [
    "##### Scatter plot for slized Age vs Difference in Lenght of stay (Actual GMLOS -GMLOS) \n",
    "When we removed those who constantly meet it e.g foetus we see a clearer linear correlation between LOS_Difference and age of patient.\n",
    "It shows that as patient get older there is a higher tendency not to meet the GMLOS"
   ]
  },
  {
   "cell_type": "code",
   "execution_count": null,
   "metadata": {},
   "outputs": [],
   "source": [
    "##sliced dataframe for those LOS\n",
    "df_sliced = df1[(df1['LOS_Diff'] > 50) & (df1['age'] >40)]\n",
    "scatter(df_sliced,'age','LOS_Diff','Scatter Plot of age vs loss_diff')"
   ]
  },
  {
   "cell_type": "markdown",
   "metadata": {},
   "source": [
    "#### Boxplot of AGE and GMLOS grouped by drg_meet_it at Encounter level"
   ]
  },
  {
   "cell_type": "code",
   "execution_count": null,
   "metadata": {},
   "outputs": [],
   "source": [
    "plot(df1,'Age_of_Individual','Geometric_Mean_LOS','Patient_age_at_admission','Geometric_Mean_for_patient_diagnosis','meet_it','age','gmlos')"
   ]
  },
  {
   "cell_type": "markdown",
   "metadata": {},
   "source": [
    "#### Boxplot of AGE and GMLOS grouped by clinical_type at Encounter level"
   ]
  },
  {
   "cell_type": "code",
   "execution_count": null,
   "metadata": {},
   "outputs": [],
   "source": [
    "plot(df1,'Age_of_Individual','Geometric_Mean_LOS','Patient_age_at_admission','Geometric_Mean_for_patient_diagnosis','clinical_type','age','gmlos')"
   ]
  },
  {
   "cell_type": "markdown",
   "metadata": {},
   "source": [
    "#### Boxplot of AGE and GMLOS grouped by Gender(Female , Male and Unknown) at Encounter level"
   ]
  },
  {
   "cell_type": "code",
   "execution_count": null,
   "metadata": {},
   "outputs": [],
   "source": [
    "plot(df1,'Age_of_Individual','Geometric_Mean_LOS','Patient_age_at_admission','Geometric_Mean_for_patient_diagnosis','gender','age','gmlos')"
   ]
  },
  {
   "cell_type": "markdown",
   "metadata": {},
   "source": [
    "#### Histogram of Age for patients Greater than 0 yrs"
   ]
  },
  {
   "cell_type": "code",
   "execution_count": null,
   "metadata": {},
   "outputs": [],
   "source": [
    "hist(df1[df1.age>0],'age','age','count of patient','Histogram of Patient age at Admission')"
   ]
  },
  {
   "cell_type": "code",
   "execution_count": null,
   "metadata": {},
   "outputs": [],
   "source": []
  },
  {
   "cell_type": "code",
   "execution_count": null,
   "metadata": {},
   "outputs": [],
   "source": [
    "df=pd.read_csv('encounter_records.csv')\n",
    "df.drop(columns=['Unnamed: 0'],inplace=True)\n",
    "\n",
    "###replace the MDC without name  with 00 \n",
    "df.mdc.replace(to_replace= ' ', value='00',inplace=True)\n"
   ]
  },
  {
   "cell_type": "code",
   "execution_count": null,
   "metadata": {},
   "outputs": [],
   "source": [
    "#Create new column for flaging patients with complication\n",
    "df['with_cc_mcc']=((df['drg_description'].str.contains('WITH MCC')== True) | (df['drg_description'].str.contains('WITH CC/MCC')== True)| (df['drg_description'].str.contains('WITH CC')== True)).astype(int)"
   ]
  },
  {
   "cell_type": "code",
   "execution_count": null,
   "metadata": {},
   "outputs": [],
   "source": [
    "#Create new column for flagging patient using ventilator\n",
    "df['with_vent']=((df['drg_description'].str.contains('WITH MV')== True) | (df['drg_description'].str.contains('WITH VENTILATOR')== True)).astype(int)"
   ]
  },
  {
   "cell_type": "code",
   "execution_count": null,
   "metadata": {},
   "outputs": [],
   "source": [
    "df1=df[['gender_abbreviation','clinical_type','drg_code',\n",
    " 'mdc','age_at_admit','with_cc_mcc','with_vent','return_visit','meet_it']]\n",
    "\n",
    "df=df1.copy()\n",
    "df.rename(columns={'gender_abbreviation':'gender','age_at_admit':'age','mdc':'mdc','with_cc_mcc':'cc_mc','with_vent':'vent'}\n",
    "          ,inplace=True)\n",
    "\n",
    "df['gender']=df.gender.map({'M':'M','U':'M','F':'F'})\n",
    "\n",
    "bins = [-np.inf, 20, 40, 60, 70, 80, np.inf]\n",
    "names = ['<20', '20_40', '40_60', '60_70', '70_80','80more']\n",
    "\n",
    "df['age_bin'] = pd.cut(df['age'], bins, labels=names)"
   ]
  },
  {
   "cell_type": "markdown",
   "metadata": {},
   "source": [
    "##### Histogram of Binned Age"
   ]
  },
  {
   "cell_type": "code",
   "execution_count": null,
   "metadata": {},
   "outputs": [],
   "source": [
    "def hist_bin(df,x,nbins,title,xaxis_title):\n",
    "    # Create a histogram using Plotly with adjusted bar space\n",
    "    fig = px.histogram(df1, x=x, nbins= nbins, barmode='overlay')\n",
    "\n",
    "    # Update layout and axis labels\n",
    "    fig.update_layout(title=title,\n",
    "                      title_x=0.5,  # Set the title position to the center\n",
    "                      xaxis_title=xaxis_title,\n",
    "                      yaxis_title='Count',\n",
    "                      bargap=0.2)  # Adjust the value to increase/decrease the bar space\n",
    "\n",
    "    # Update aesthetic styles\n",
    "    fig.update_traces(opacity=0.90)  # Change the bar color and opacity\n",
    "    fig.update_layout( showlegend=False)  # Set background color and hide legend\n",
    "\n",
    "    # Show the histogram\n",
    "    fig.show()\n",
    "hist_bin(df,x='age_at_admit',nbins=10,title='Histogram of Age',xaxis_title='Age')"
   ]
  },
  {
   "cell_type": "code",
   "execution_count": null,
   "metadata": {},
   "outputs": [],
   "source": []
  },
  {
   "cell_type": "markdown",
   "metadata": {},
   "source": [
    "#### Bar chart of proportion of encounters that meet it or not (1 or 0)"
   ]
  },
  {
   "cell_type": "code",
   "execution_count": null,
   "metadata": {},
   "outputs": [],
   "source": [
    "def barchart(df,target,subject):\n",
    "    # Count the number of 1s and 0s in the 'meet_it' column\n",
    "    meet_it_counts = df1[target].value_counts()\n",
    "\n",
    "    # Create a bar chart using Plotly\n",
    "    fig = px.bar(x=meet_it_counts.index, y=meet_it_counts.values,\n",
    "                 color=meet_it_counts.index, labels={'x': target, 'y': 'Count'},\n",
    "                 title='Bar Chart of Encounter that {}'.format(subject))\n",
    "\n",
    "    # Update aesthetic styles\n",
    "    fig.update_traces(marker_color=['skyblue', 'lightcoral'])  # Set custom colors for the bars\n",
    "    fig.update_layout(plot_bgcolor='white', title_x=0.5, showlegend=False)  # Set background color and hide legend\n",
    "    fig.update_xaxes(title_text=target)  # Set x-axis label\n",
    "\n",
    "    # Show the bar chart\n",
    "    fig.show()\n",
    "barchart(df1,'meet_it','meet GMLOS')"
   ]
  },
  {
   "cell_type": "markdown",
   "metadata": {},
   "source": [
    "#### Bar chart of proportion of encounters that has complications or not (1 or 0)"
   ]
  },
  {
   "cell_type": "code",
   "execution_count": null,
   "metadata": {},
   "outputs": [],
   "source": [
    "barchart(df1,'with_cc_mcc', \" are with Complication during Admission\")"
   ]
  },
  {
   "cell_type": "markdown",
   "metadata": {},
   "source": [
    "#### Bar chart of proportion of encounters that use ventilator or not (1 or 0)"
   ]
  },
  {
   "cell_type": "code",
   "execution_count": null,
   "metadata": {},
   "outputs": [],
   "source": [
    "barchart(df1,'with_vent', \" are using Ventilation\")"
   ]
  },
  {
   "cell_type": "markdown",
   "metadata": {},
   "source": [
    "#### Bar chart of proportion of encounters that return to the hospital or not (1 or 0)"
   ]
  },
  {
   "cell_type": "code",
   "execution_count": null,
   "metadata": {},
   "outputs": [],
   "source": [
    "barchart(df1,'return_visit', 'have been in the system before')"
   ]
  },
  {
   "cell_type": "markdown",
   "metadata": {},
   "source": [
    "##### Check for normality in age distribution\n",
    "As we have known by now , there is a violation of normality for the distribution of age . A lot of outliers present"
   ]
  },
  {
   "cell_type": "code",
   "execution_count": null,
   "metadata": {},
   "outputs": [],
   "source": [
    "# check normality\n",
    "fig, ax = plt.subplots(figsize=(4,5))\n",
    "qqplot(df1['age_at_admit'], fit=True, line='s',ax=ax)\n",
    "plt.show()"
   ]
  },
  {
   "cell_type": "markdown",
   "metadata": {},
   "source": [
    "# Modelling"
   ]
  },
  {
   "cell_type": "markdown",
   "metadata": {},
   "source": [
    "Used a variety of statistical and machine learning models to assess the data, with the goal of building an accurate model that could predict whether a patient will meet or not meet the GMLOS. Some of these models gave a likelihood to meet the GMLOS. In all of the models, we were attempting to predict for each encounter a binary variable that represented whether the encounter met the GMLOS or not.\n",
    "\n",
    "We first tried logistic regression. This model was 59.1% accurate. We tried another logistic regression but removed any patients with an admit age of 0 or below, just to avoid the extreme violation of normality, to remove newborn patients, which exhibited different behavior than the rest of our patients. This model was less accurate than the first. Then tried a standard decision tree model on the full data, which was 59.26% accurate, and a gradient boosted classifier, which was 59.48% accurate.Finally tried a random forest model which returned our most accurate model by a thin margin at 59.5%. For reference, 53.23% should be used as a benchmark as this is what percentage of our data met the GMLOS. It can be seen that these models performed marginally better than a blanket guess of “Yes”, meaning that their interpretation could provide some value, but may not be extremely accurate as a predictor at admission for a patient as there is significant lack of fit ."
   ]
  },
  {
   "cell_type": "markdown",
   "metadata": {},
   "source": [
    "##### Grouping the Categories"
   ]
  },
  {
   "cell_type": "code",
   "execution_count": null,
   "metadata": {},
   "outputs": [],
   "source": [
    "df['mdc']=df.mdc.astype('category')\n",
    "df['gender']=df.gender.astype('category')\n",
    "df['clinical_type']=df.clinical_type.astype('category')\n",
    "df['drg_code']=df.drg_code.astype('category')\n",
    "\n",
    "df1=df.copy()\n",
    "df.drop(columns=['drg_code'],inplace=True)"
   ]
  },
  {
   "cell_type": "markdown",
   "metadata": {},
   "source": [
    "##### Creating Dummies"
   ]
  },
  {
   "cell_type": "code",
   "execution_count": null,
   "metadata": {},
   "outputs": [],
   "source": [
    "dummies_age_bin = pd.get_dummies(df['age_bin'])\n",
    "dummies_age_bin.drop(columns='<20',inplace=True)\n",
    "\n",
    "dummies_mdc = pd.get_dummies(df['mdc'],prefix='mdc')\n",
    "dummies_mdc.drop(columns='mdc_00',inplace=True)\n",
    "\n",
    "dummies_clinical_type = pd.get_dummies(df['clinical_type'])\n",
    "dummies_clinical_type.drop(columns='SURG',inplace=True)\n",
    "\n",
    "dummies_gender = pd.get_dummies(df['gender'])\n",
    "dummies_gender.drop(columns='M',inplace=True)\n",
    "\n",
    "categorical_features = ['clinical_type', 'gender','mdc', 'age_bin']\n",
    "continuous_features = ['age']\n",
    "binary_features =['return_visit', 'cc_mc', 'vent']\n",
    "target =['meet_it']\n",
    "target=df[target]"
   ]
  },
  {
   "cell_type": "markdown",
   "metadata": {},
   "source": [
    "##### Final dataframe"
   ]
  },
  {
   "cell_type": "code",
   "execution_count": null,
   "metadata": {},
   "outputs": [],
   "source": [
    "data = pd.concat([df[binary_features], dummies_gender], axis=1)\n",
    "data_1 = pd.concat([data, dummies_clinical_type], axis=1)\n",
    "data_2 = pd.concat([data_1, dummies_mdc], axis=1)\n",
    "data_3 = pd.concat([data_2, dummies_age_bin], axis=1)\n",
    "df = pd.concat([data_3, target], axis=1)\n"
   ]
  },
  {
   "cell_type": "code",
   "execution_count": null,
   "metadata": {},
   "outputs": [],
   "source": [
    "# rename columns\n",
    "df.rename(columns={'20-40':'20_40','40-60':'40_60','60-70':'60_70','70-80':'70_80','80+':'80more'})"
   ]
  },
  {
   "cell_type": "markdown",
   "metadata": {},
   "source": [
    "The features were grouped into different sects and then checked their importance using XGbosst feature importance capability. \n",
    "The Features was latter combined and checked for the top 10 most important feature in the data"
   ]
  },
  {
   "cell_type": "code",
   "execution_count": null,
   "metadata": {},
   "outputs": [],
   "source": [
    "# plot feature importance manually\n",
    "from numpy import loadtxt\n",
    "from xgboost import XGBClassifier\n",
    "import matplotlib.pyplot as plt\n",
    "\n",
    "\n",
    "\n",
    "\n",
    "#### MDC features \n",
    "\n",
    "features_mdc=['mdc_01', 'mdc_02',\n",
    "       'mdc_03', 'mdc_04', 'mdc_05', 'mdc_06', 'mdc_07', 'mdc_08', 'mdc_09',\n",
    "       'mdc_10', 'mdc_11', 'mdc_12', 'mdc_13', 'mdc_14', 'mdc_15', 'mdc_16',\n",
    "       'mdc_17', 'mdc_18', 'mdc_19', 'mdc_20', 'mdc_21', 'mdc_22', 'mdc_23',\n",
    "       'mdc_24', 'mdc_25', 'mdc_PRE',\n",
    "       ]\n",
    "target =['meet_it']\n",
    "\n",
    "X = df[features_mdc]\n",
    "y = df[target]\n",
    "\n",
    "# fit model on training data\n",
    "model = XGBClassifier()\n",
    "model.fit(X, y)\n",
    "\n",
    "# feature importance\n",
    "feature_importance = model.feature_importances_\n",
    "\n",
    "# sort feature importance in descending order\n",
    "sorted_idx = feature_importance.argsort()[::-1]\n",
    "sorted_features = [features_mdc[i] for i in sorted_idx]\n",
    "sorted_importance = feature_importance[sorted_idx]\n",
    "\n",
    "# create a horizontal bar plot\n",
    "fig, ax = plt.subplots(figsize=(4, 6))\n",
    "ax.barh(sorted_features, sorted_importance, color='darkblue')\n",
    "ax.set_xlabel('Feature Importance')\n",
    "ax.set_title('XGBoost MDC Feature Importance')\n",
    "\n",
    "plt.show()\n",
    "#plt.savefig('MDC_feat_import.png',dpi=360)\n"
   ]
  },
  {
   "cell_type": "markdown",
   "metadata": {},
   "source": [
    "#### Other feature group"
   ]
  },
  {
   "cell_type": "code",
   "execution_count": null,
   "metadata": {},
   "outputs": [],
   "source": [
    "features_others=['return_visit', 'cc_mc', 'vent', 'F', 'MED']\n",
    "\n",
    "\n",
    "X = df[features_others]\n",
    "y = df[target]\n",
    "\n",
    "# fit model on training data\n",
    "model = XGBClassifier()\n",
    "model.fit(X, y)\n",
    "\n",
    "# feature importance\n",
    "feature_importance = model.feature_importances_\n",
    "\n",
    "# sort feature importance in descending order\n",
    "sorted_idx = feature_importance.argsort()[::-1]\n",
    "sorted_features = [features_others[i] for i in sorted_idx]\n",
    "sorted_importance = feature_importance[sorted_idx]\n",
    "\n",
    "# create a horizontal bar plot\n",
    "fig, ax = plt.subplots(figsize=(4, 3))\n",
    "ax.barh(sorted_features, sorted_importance, color='darkblue')\n",
    "ax.set_xlabel('Feature Importance')\n",
    "ax.set_title('XGBoost Other Feature Importance')\n",
    "\n",
    "plt.show()\n",
    "#plt.savefig('other_feat_import.png',dpi=360)"
   ]
  },
  {
   "cell_type": "markdown",
   "metadata": {},
   "source": [
    "#### Age feature group"
   ]
  },
  {
   "cell_type": "code",
   "execution_count": null,
   "metadata": {},
   "outputs": [],
   "source": [
    "features_age=['20_40', '40_60', '60_70', '70_80', '80more']\n",
    "\n",
    "\n",
    "X = df[features_age]\n",
    "y = df[target]\n",
    "\n",
    "# fit model on training data\n",
    "model = XGBClassifier()\n",
    "model.fit(X, y)\n",
    "\n",
    "# feature importance\n",
    "feature_importance = model.feature_importances_\n",
    "\n",
    "# sort feature importance in descending order\n",
    "sorted_idx = feature_importance.argsort()[::-1]\n",
    "sorted_features = [features_age[i] for i in sorted_idx]\n",
    "sorted_importance = feature_importance[sorted_idx]\n",
    "\n",
    "# create a horizontal bar plot\n",
    "fig, ax = plt.subplots(figsize=(4, 5))\n",
    "ax.barh(sorted_features, sorted_importance, color='darkblue')\n",
    "ax.set_xlabel('Feature Importance')\n",
    "ax.set_title('XGBoost AGE Feature Importance')\n",
    "\n",
    "plt.show()\n",
    "#plt.savefig('age_feat_import.png',dpi=360)"
   ]
  },
  {
   "cell_type": "code",
   "execution_count": null,
   "metadata": {},
   "outputs": [],
   "source": []
  },
  {
   "cell_type": "markdown",
   "metadata": {},
   "source": [
    "#### All features combined"
   ]
  },
  {
   "cell_type": "code",
   "execution_count": null,
   "metadata": {},
   "outputs": [],
   "source": [
    "features=['return_visit', 'cc_mc', 'vent', 'F', 'MED', 'mdc_01', 'mdc_02',\n",
    "       'mdc_03', 'mdc_04', 'mdc_05', 'mdc_06', 'mdc_07', 'mdc_08', 'mdc_09',\n",
    "       'mdc_10', 'mdc_11', 'mdc_12', 'mdc_13', 'mdc_14', 'mdc_15', 'mdc_16',\n",
    "       'mdc_17', 'mdc_18', 'mdc_19', 'mdc_20', 'mdc_21', 'mdc_22', 'mdc_23',\n",
    "       'mdc_24', 'mdc_25', 'mdc_PRE', '20_40', '40_60', '60_70', '70_80',\n",
    "       '80more']\n",
    "target =['meet_it']\n",
    "\n",
    "df[features]\n",
    "\n",
    "X = df[features]\n",
    "y = df[target]\n",
    "\n",
    "# fit model on training data\n",
    "model = XGBClassifier()\n",
    "model.fit(X, y)\n",
    "\n",
    "# feature importance\n",
    "feature_importance = model.feature_importances_\n",
    "\n",
    "# sort feature importance in descending order\n",
    "sorted_idx = feature_importance.argsort()[::-1]\n",
    "sorted_features = [features[i] for i in sorted_idx]\n",
    "sorted_importance = feature_importance[sorted_idx]\n",
    "\n",
    "# create a horizontal bar plot of the top 10 feature importances\n",
    "top_k = 10\n",
    "fig, ax = plt.subplots(figsize=(7, 5))\n",
    "ax.barh(sorted_features[:top_k], sorted_importance[:top_k], color='darkblue')\n",
    "ax.set_xlabel('Feature Importance')\n",
    "ax.set_title(f'Top {top_k} XGBoost Feature Importances')\n",
    "\n",
    "plt.show()\n",
    "#plt.savefig('Top_10_allfeat_import.png',dpi=360)"
   ]
  },
  {
   "cell_type": "markdown",
   "metadata": {},
   "source": [
    "### Model Building"
   ]
  },
  {
   "cell_type": "code",
   "execution_count": null,
   "metadata": {},
   "outputs": [],
   "source": [
    "from sklearn.model_selection import train_test_split\n",
    "from sklearn import tree\n",
    "\n",
    "X = df[features].copy()\n",
    "y = df[target].copy()\n",
    "\n",
    "X_train, X_test, y_train, y_test = train_test_split(X, y, test_size=0.30, random_state=0)"
   ]
  },
  {
   "cell_type": "code",
   "execution_count": null,
   "metadata": {
    "scrolled": true
   },
   "outputs": [],
   "source": [
    "## Decision Tree\n",
    "\n",
    "clf = tree.DecisionTreeClassifier(random_state=0,)\n",
    "clf = clf.fit(X_train, y_train)\n",
    "clf.score(X_train, y_train)"
   ]
  },
  {
   "cell_type": "code",
   "execution_count": null,
   "metadata": {},
   "outputs": [],
   "source": [
    "clf.score(X_test, y_test)"
   ]
  },
  {
   "cell_type": "markdown",
   "metadata": {},
   "source": [
    "### Random Forest"
   ]
  },
  {
   "cell_type": "code",
   "execution_count": null,
   "metadata": {},
   "outputs": [],
   "source": [
    "from sklearn.ensemble import RandomForestClassifier\n",
    "\n",
    "#y_train=y_train.meet_it.ravel()\n",
    "clf = RandomForestClassifier(random_state=70,max_depth=13)\n",
    "clf = clf.fit(X_train, y_train)\n",
    "clf.score(X_train, y_train)"
   ]
  },
  {
   "cell_type": "code",
   "execution_count": null,
   "metadata": {
    "scrolled": true
   },
   "outputs": [],
   "source": [
    "clf.score(X_test, y_test)"
   ]
  },
  {
   "cell_type": "markdown",
   "metadata": {},
   "source": [
    "### Logistic Regression"
   ]
  },
  {
   "cell_type": "code",
   "execution_count": null,
   "metadata": {},
   "outputs": [],
   "source": [
    "from sklearn.linear_model import LogisticRegression\n",
    "from sklearn.preprocessing import StandardScaler\n",
    "\n",
    "X = df[features].copy()\n",
    "y = df[target].copy()\n",
    "\n",
    "scaler = StandardScaler()\n",
    "X_train = scaler.fit_transform(X_train)\n",
    "X_test = scaler.transform(X_test)\n",
    "\n",
    "y_train = y_train.meet_it.ravel()\n",
    "y_test = y_test.meet_it.ravel()\n",
    "\n",
    "logisticRegr = LogisticRegression(max_iter=1000)\n",
    "logisticRegr.fit(X_train, y_train)\n",
    "\n",
    "predictions = logisticRegr.predict(X_test)\n"
   ]
  },
  {
   "cell_type": "code",
   "execution_count": null,
   "metadata": {
    "scrolled": true
   },
   "outputs": [],
   "source": [
    "# Use score method to get accuracy of model\n",
    "score = logisticRegr.score(X_test, y_test)\n",
    "print(score)"
   ]
  },
  {
   "cell_type": "code",
   "execution_count": null,
   "metadata": {},
   "outputs": [],
   "source": [
    "from sklearn.metrics import confusion_matrix\n",
    "y_true = y_test\n",
    "y_pred = predictions\n",
    "confusion_matrix(y_true, y_pred)"
   ]
  },
  {
   "cell_type": "code",
   "execution_count": null,
   "metadata": {},
   "outputs": [],
   "source": [
    "# lst=[[11107,  9879],\n",
    "#        [ 8468, 15402]]\n",
    "lst=confusion_matrix(y_true, y_pred).tolist()\n",
    "lst"
   ]
  },
  {
   "cell_type": "code",
   "execution_count": null,
   "metadata": {},
   "outputs": [],
   "source": [
    "tot_P=(y_test==1).sum()\n",
    "tot_N=(y_test==0).sum()\n",
    "true_Neg = lst[0][0]/tot_N\n",
    "false_Neg = lst[0][1]/tot_N\n",
    "false_Pos = lst[1][0]/tot_P\n",
    "true_Pos = lst[1][1]/tot_P\n",
    "print(f'true positive rate is: {true_Pos},false positive rate is: {false_Pos}')\n",
    "print(f'true negative rate is: {true_Neg}, false negative rate is: {false_Neg}')        \n",
    "  "
   ]
  },
  {
   "cell_type": "code",
   "execution_count": null,
   "metadata": {},
   "outputs": [],
   "source": [
    "precision=(true_Pos/(true_Pos+false_Pos))"
   ]
  },
  {
   "cell_type": "code",
   "execution_count": null,
   "metadata": {},
   "outputs": [],
   "source": [
    "recall=(true_Pos/(true_Pos+false_Neg))"
   ]
  },
  {
   "cell_type": "code",
   "execution_count": null,
   "metadata": {},
   "outputs": [],
   "source": [
    "f1=2*(precision*recall/(precision+recall))"
   ]
  },
  {
   "cell_type": "markdown",
   "metadata": {},
   "source": [
    "### XGBoost"
   ]
  },
  {
   "cell_type": "code",
   "execution_count": null,
   "metadata": {},
   "outputs": [],
   "source": [
    "from numpy import loadtxt\n",
    "from xgboost import XGBClassifier\n",
    "from sklearn.model_selection import train_test_split\n",
    "from sklearn.metrics import accuracy_score"
   ]
  },
  {
   "cell_type": "code",
   "execution_count": null,
   "metadata": {},
   "outputs": [],
   "source": [
    "X = df[features]\n",
    "Y = df[target]\n"
   ]
  },
  {
   "cell_type": "code",
   "execution_count": null,
   "metadata": {},
   "outputs": [],
   "source": [
    "# split data into train and test sets\n",
    "seed = 7\n",
    "test_size = 0.33\n",
    "X_train, X_test, y_train, y_test = train_test_split(X, Y, test_size=test_size, random_state=seed)\n"
   ]
  },
  {
   "cell_type": "markdown",
   "metadata": {},
   "source": [
    "#### Train Model"
   ]
  },
  {
   "cell_type": "code",
   "execution_count": null,
   "metadata": {},
   "outputs": [],
   "source": [
    "\n",
    "# fit model no training data\n",
    "model = XGBClassifier()\n",
    "model.fit(X_train, y_train)"
   ]
  },
  {
   "cell_type": "code",
   "execution_count": null,
   "metadata": {},
   "outputs": [],
   "source": [
    "\n",
    "# make predictions for test data\n",
    "y_pred = model.predict(X_test)\n",
    "predictions = [round(value) for value in y_pred]"
   ]
  },
  {
   "cell_type": "code",
   "execution_count": null,
   "metadata": {},
   "outputs": [],
   "source": [
    "\n",
    "# evaluate predictions\n",
    "accuracy = accuracy_score(y_test, predictions)\n",
    "print(\"Accuracy: %.2f%%\" % (accuracy * 100.0))"
   ]
  },
  {
   "cell_type": "markdown",
   "metadata": {},
   "source": [
    "### Conclusion\n",
    "In this work, it was found that in overall, some DRGs do better at meeting these expected GMLOS than others. We found that DRGs with a high expected length of stay are less likely to be met than those with short stays.\n",
    "\n",
    "insights were given into what the data is made up,which will help healthcare professionals better understand which patients overstay their GMLOS. The  visualizations  allow for detailed investigation of how different aspects of a patient and their condition contribute to their ability to meet the DRG-defined GMLOS. The machine earning models, can be used to essentially triage new patients that may require more attention to meet the GMLOS. These insights will provide value to both the patient and hospital"
   ]
  }
 ],
 "metadata": {
  "kernelspec": {
   "display_name": "Python 3 (ipykernel)",
   "language": "python",
   "name": "python3"
  },
  "language_info": {
   "codemirror_mode": {
    "name": "ipython",
    "version": 3
   },
   "file_extension": ".py",
   "mimetype": "text/x-python",
   "name": "python",
   "nbconvert_exporter": "python",
   "pygments_lexer": "ipython3",
   "version": "3.10.9"
  }
 },
 "nbformat": 4,
 "nbformat_minor": 4
}
